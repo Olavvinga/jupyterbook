version https://git-lfs.github.com/spec/v1
oid sha256:4491ec246f2c848b13e56cf7fee81a23988ad37c0b81577afc64c9a1799c0ef5
size 25396
