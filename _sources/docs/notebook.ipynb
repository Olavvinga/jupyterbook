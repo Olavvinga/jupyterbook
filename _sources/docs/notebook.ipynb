{
 "cells": [
  {
   "attachments": {},
   "cell_type": "markdown",
   "metadata": {},
   "source": [
    "## Data Story Group Project\n",
    "\n",
    "Jannes de Waard 14363003<br>\n",
    "Olek Lobman     14638177<br>\n",
    "Mickey Kotterer 13464167<br>\n",
    "Olav Mestrum    14504863<br>"
   ]
  },
  {
   "attachments": {},
   "cell_type": "markdown",
   "metadata": {},
   "source": [
    "# Introduction\n",
    "Ons project richt zich op het verkennen van de invloed van onderwijs op inkomensniveaus. We willen twee verschillende perspectieven onderzoeken en analyseren om een breder inzicht te krijgen in dit complexe onderwerp. Het eerste perspectief stelt dat een hoog opleidingsniveau wel degelijk invloed heeft op het bereiken van een hoger inkomen. Dit perspectief benadrukt het belang van onderwijs als een cruciale factor bij het bevorderen van professioneel succes en economische groei. Aan de andere kant, presenteren we ook een contradictie: het tweede perspectief stelt dat onderwijs niet noodzakelijk leidt tot hogere inkomensniveaus. Dit perspectief benadrukt andere factoren die van invloed kunnen zijn op iemands inkomen, zoals demografische gegevens, geluk, sociaal kapitaal of economische omstandigheden.\n",
    "Door middel van het analyseren van twee verschillende datasets, zullen we proberen  inzicht te krijgen in deze perspectieven en de argumenten die ze ondersteunen. We zullen statistische analyses uitvoeren en trends in de gegevens identificeren om onze bevindingen te ondersteunen. Het doel van dit project is om een grondige evaluatie van beide perspectieven te bieden, en zo een bredere discussie aan te moedigen over de complexe relatie tussen onderwijs en inkomensniveaus.\n",
    "Met dit project hopen we een beter begrip te krijgen van de rol van onderwijs bij het beïnvloeden van inkomens, en bij te dragen aan het bredere debat over de waarde van onderwijs in onze samenleving.\n"
   ]
  },
  {
   "attachments": {},
   "cell_type": "markdown",
   "metadata": {},
   "source": [
    "# Dataset and preprocessing<br>\n",
    "## Dataset 1: US Household Income Statistics<br>\n",
    "Link: https://www.kaggle.com/datasets/goldenoakresearch/us-household-income-stats-geo-locations<br>\n",
    "Beschrijving: Deze dataset geeft inzicht in de inkomens per huishouden in de Verenigde Staten.\n",
    "Naast inzicht in het gemiddelde en mediane inkomen, geeft deze dataset ook informatie over \n",
    "het aantal huishoudens en de bevolkingsdichtheid op verschillende geografische niveaus, zoals \n",
    "staten, provincies en plaatsen. Deze informatie is nuttig om een analyse te maken van de \n",
    "inkomensongelijkheid in verschillende gebieden in de Verenigde Staten. \n",
    "\n",
    "Ten eerste hebben wij deze dataset gevonden op de Kaggle website. Vervolgens hebben we \n",
    "gekeken uit welke kolommen deze dataset bestaat. Hieruit volgde dat alleen de “State” en “mean \n",
    "income” kolom nuttig zijn voor ons onderzoek. \n",
    "\n",
    "## Dataset 2: College tuition, diversity, and pay<br>\n",
    "Link: https://www.kaggle.com/datasets/jessemostipak/college-tuition-diversity-and-pay<br>\n",
    "Beschrijving: Deze dataset bevat informatie over het collegegeld en de kosten per college/universiteit in de Verenigde Staten voor het academische jaar 2018-2019. Hieronder vallen het type instelling, de duur van de opleiding, de staat en of het in-state of out-of-state is. Met behulp van verschillende tabellen in de dataset kunnen verbanden en inzichten worden verkregen over de kosten, diversiteit, trends en potentieel salaris van hogescholen en universiteiten in de Verenigde Staten.\n",
    "\n",
    "Deze dataset bestaat uit vijf csv files namelijk: tuition_income, tuition_cost, salary_potential, diversity_school en historical_tuition. De laatste is voor onze datastory niet van belang, daarom hebben we de overige sets gemerged om de belangrijke data in één dataframe te hebben. \n"
   ]
  },
  {
   "attachments": {},
   "cell_type": "markdown",
   "metadata": {},
   "source": [
    "# Het prepareren van de datasets\n"
   ]
  },
  {
   "cell_type": "code",
   "execution_count": null,
   "metadata": {},
   "outputs": [],
   "source": [
    "import pandas as pd\n",
    "import plotly.graph_objs as go\n",
    "import plotly.express as px"
   ]
  },
  {
   "attachments": {},
   "cell_type": "markdown",
   "metadata": {},
   "source": [
    "### Inkomens dataset"
   ]
  },
  {
   "cell_type": "code",
   "execution_count": null,
   "metadata": {},
   "outputs": [],
   "source": [
    "income_df = pd.read_csv('kaggle_income.csv', encoding='ISO-8859-1')"
   ]
  },
  {
   "attachments": {},
   "cell_type": "markdown",
   "metadata": {},
   "source": [
    "In de cel hierboven hebben wij een encoding toegevoegd omdat we niet de goede encoding hadden als default. Wij zijn hier achter gekomen met behulp van chatGPT. Het probleem wat zich voordeet luidt als volgt:\n",
    "```File c:\\Users\\Olav\\AppData\\Local\\Programs\\Python\\Python311\\Lib\\site-packages\\pandas\\util\\_decorators.py:211, in deprecate_kwarg.._deprecate_kwarg..wrapper(*args, **kwargs)\n",
    "    209     else:\n",
    "    210         kwargs[new_arg_name] = new_arg_value\n",
    "--> 211 return func(*args, **kwargs)\n",
    "\n",
    "File c:\\Users\\Olav\\AppData\\Local\\Programs\\Python\\Python311\\Lib\\site-packages\\pandas\\util\\_decorators.py:331, in deprecate_nonkeyword_arguments..decorate..wrapper(*args, **kwargs)\n",
    "    325 if len(args) > num_allow_args:\n",
    "    326     warnings.warn(\n",
    "    327         msg.format(arguments=_format_argument_list(allow_args)),\n",
    "    328         FutureWarning,\n",
    "    329         stacklevel=find_stack_level(),\n",
    "    330     )\n",
    "--> 331 return func(*args, **kwargs)\n",
    "\n",
    "File c:\\Users\\Olav\\AppData\\Local\\Programs\\Python\\Python311\\Lib\\site-packages\\pandas\\io\\parsers\\readers.py:950, in read_csv(filepath_or_buffer, sep, delimiter, header, names, index_col, usecols, squeeze, prefix, mangle_dupe_cols, dtype, engine, converters, true_values, false_values, skipinitialspace, skiprows, skipfooter, nrows, na_values, keep_default_na, na_filter, verbose, skip_blank_lines, parse_dates, infer_datetime_format, keep_date_col, date_parser, dayfirst, cache_dates, iterator, chunksize, compression, thousands, decimal, lineterminator, quotechar, quoting, doublequote, escapechar, comment, encoding, encoding_errors, dialect, error_bad_lines, warn_bad_lines, on_bad_lines, delim_whitespace, low_memory, memory_map, float_precision, storage_options)\n",
    "    935 kwds_defaults = _refine_defaults_read(\n",
    "    936     dialect,\n",
    "    937     delimiter,\n",
    "...\n",
    "File c:\\Users\\Olav\\AppData\\Local\\Programs\\Python\\Python311\\Lib\\site-packages\\pandas\\_libs\\parsers.pyx:852, in pandas._libs.parsers.TextReader._tokenize_rows()\n",
    "\n",
    "File c:\\Users\\Olav\\AppData\\Local\\Programs\\Python\\Python311\\Lib\\site-packages\\pandas\\_libs\\parsers.pyx:1965, in pandas._libs.parsers.raise_parser_error()\n",
    "\n",
    "UnicodeDecodeError: 'utf-8' codec can't decode byte 0xf1 in position 20530: invalid continuation byte\n",
    "```\n",
    "\n",
    "Hieruit bleek dat er een aantal de encoding die gebruikt werd bij het inlezen van kaggle_income.csv verkeerd was. Om erachter te komen welke encoding goed is hebben wij een formule gekregen die dat kan detecteren met behulp van chardet. hieruit kwam **ISO-8859-1** uit als encoding. Omdat dit notebook gerund moet kunnen worden zonder problemen hebben wij dit opgeslagen en de formule weggehaald. De formule die we gebruikt hebben is:\n",
    "```import chardet\n",
    "\n",
    "with open('kaggle_income.csv', 'rb') as f:\n",
    "    raw_bytes = f.read()\n",
    "    detected_encoding = chardet.detect(raw_bytes)['encoding']\n",
    "```"
   ]
  },
  {
   "attachments": {},
   "cell_type": "markdown",
   "metadata": {},
   "source": [
    "### Schoolgeld dataset"
   ]
  },
  {
   "cell_type": "code",
   "execution_count": null,
   "metadata": {},
   "outputs": [],
   "source": [
    "tuition_income_df = pd.read_csv('tuition_income.csv')\n",
    "tuition_cost_df = pd.read_csv('tuition_cost.csv')\n",
    "salary_potential_df = pd.read_csv('salary_potential.csv')\n",
    "historical_tuition_df = pd.read_csv('historical_tuition.csv')\n",
    "diversity_df = pd.read_csv('diversity_school.csv')"
   ]
  },
  {
   "attachments": {},
   "cell_type": "markdown",
   "metadata": {},
   "source": [
    "Deze dataset kwam als bundel met vijf csv bestanden. Hiervan konden wij er 4 gebruiken en mergen met elkaar. Dit werd een heel grote dataset en er is vervolgens een keuze gemaakt uit de kolommen die wij wilden meenemen in deze story."
   ]
  },
  {
   "cell_type": "code",
   "execution_count": null,
   "metadata": {},
   "outputs": [],
   "source": [
    "tidf = tuition_income_df[['name', 'state', 'total_price', 'year', 'net_cost','income_lvl']]\n",
    "tcdf = tuition_cost_df[['name', 'state', 'state_code', 'room_and_board', 'in_state_tuition', 'out_of_state_tuition']]\n",
    "spdf = salary_potential_df[['name', 'state_name', 'early_career_pay', 'mid_career_pay']]\n",
    "ddf = diversity_df[['name', 'total_enrollment', 'state', 'category',]]\n",
    "\n",
    "tuition_df = pd.merge(tidf, tcdf, on='name')\n",
    "tuition_df = pd.merge(tuition_df, spdf, on='name')\n",
    "tuition_df = pd.merge(tuition_df, ddf, on='name')\n"
   ]
  },
  {
   "attachments": {},
   "cell_type": "markdown",
   "metadata": {},
   "source": [
    "## Visualisatie 1 \n",
    "In deze visualisatie wordt er gekeken naar de verdeling van het inkomen in de verenigde staten."
   ]
  },
  {
   "cell_type": "code",
   "execution_count": null,
   "metadata": {},
   "outputs": [],
   "source": [
    "bins = [0, 35000, 50000, 70000, 100000, 150000, 100000000]\n",
    "\n",
    "income_df['house_income_qcut'] = pd.cut(income_df['Mean'], bins=bins, labels=['<35K', '35K-50K', \"50K-70K\", '70K-100K', '100K-150K', '>150K'])\n",
    "\n",
    "category_counts = income_df['house_income_qcut'].value_counts()\n",
    "\n",
    "datapie = go.Pie(\n",
    "    labels=category_counts.index,\n",
    "    values=category_counts.values,\n",
    "    hole=0.85,\n",
    "    marker = dict(colors=px.colors.qualitative.T10),\n",
    "    textinfo = 'label+percent')\n",
    "\n",
    "layout = go.Layout(\n",
    "    title='Percentage huishoudens dat binnen inkomensgroep valt',\n",
    "    height=600,)\n",
    "\n",
    "fig = go.Figure(data=datapie, layout=layout)\n",
    "fig.show()"
   ]
  },
  {
   "attachments": {},
   "cell_type": "markdown",
   "metadata": {},
   "source": [
    "figuur 1"
   ]
  },
  {
   "attachments": {},
   "cell_type": "markdown",
   "metadata": {},
   "source": [
    "In de bovenstaande taartdiagram is te zien hoeveel procent van de huishoudens tot een bepaalde inkomensgroep behoren. De meerderheid zit tussen 50.000 en 100.000 "
   ]
  },
  {
   "cell_type": "code",
   "execution_count": null,
   "metadata": {},
   "outputs": [],
   "source": [
    "bins = [0, 35000, 50000, 70000, 100000, 150000, 100000000]\n",
    "\n",
    "income_df['house_income_qcut'] = pd.cut(income_df['Mean'], bins=bins, labels=['<35K', '35K-50K', \"50K-70K\", '70K-100K', '100K-150K', '>150K'])\n",
    "\n",
    "\n",
    "data = go.Pie(\n",
    "    labels = income_df['house_income_qcut'],\n",
    "    values = (income_df['Mean']),\n",
    "    hole = 0.85,\n",
    "    marker = dict(colors=px.colors.qualitative.T10),\n",
    "    textinfo = 'label+percent')\n",
    "\n",
    "layout = go.Layout(\n",
    "    title = 'Cumulatief van geld bij inkomensgroepen huishouden',\n",
    "    height = 600)\n",
    "\n",
    "fig = go.Figure(data=data, layout=layout)\n",
    "fig.add_trace(datapie)\n",
    "fig.show()"
   ]
  },
  {
   "attachments": {},
   "cell_type": "markdown",
   "metadata": {},
   "source": [
    "figuur 2\n",
    "\n",
    "Beetje onduidelijk welk punt dit ondersteunt."
   ]
  },
  {
   "attachments": {},
   "cell_type": "markdown",
   "metadata": {},
   "source": [
    "In de taartdiagram hierboven is te zien hoeveel de inkomsgroepen cumulatief aan inkomen krijgen van het totaal. De lage inkomensgroepen hebben veel minder procent van het geld in bezit dan zij bij een gelijke verdeling zouden hebben. Om dit te illustreren is er een DataFrame gemaakt die de proporties en verschillen laat zien.\n"
   ]
  },
  {
   "cell_type": "code",
   "execution_count": null,
   "metadata": {},
   "outputs": [],
   "source": [
    "cumul_money = pd.Series([4.03, 13.7, 27.7, 29.3, 21, 4.33])\n",
    "cumul_people = pd.Series([9.69, 21.3, 31.5, 23.8, 11.9, 1.75])\n",
    "index = ['<35K', '35K-50K', \"50K-70K\", '70K-100K', '100K-150K', '>150K']\n",
    "\n",
    "pie_df = pd.DataFrame({'income_scale' : index, 'percentage_of_money' : cumul_money, 'percentage_of_people' : cumul_people})\n",
    "pie_df['difference'] = (pie_df['percentage_of_money'] - pie_df['percentage_of_people'])\n",
    "pie_df['proportion'] = round((pie_df['percentage_of_money'] / pie_df['percentage_of_people']), 2)\n",
    "display(pie_df)"
   ]
  },
  {
   "attachments": {},
   "cell_type": "markdown",
   "metadata": {},
   "source": [
    "Uit deze tabel is op te maken dat de lagere inkomensgroepen een kleinere proportie hebben van de totale inkomens. Hieruit is op te maken dat lagere inkomensgroepen weinig geld te besteden hebben op bijvoorbeeld onderwijs. Doordat de prijs van onderwijs kan verschillen zijn zij beperkt in het kiezen van een universiteit\n",
    "\n",
    "** Tabel visualiseren"
   ]
  },
  {
   "attachments": {},
   "cell_type": "markdown",
   "metadata": {},
   "source": [
    "## Visualisatie 2: \n",
    "Dit is een visualisatie van dataset 1, deze bargraph geeft informatie over het gemiddelde \n",
    "inkomen per huishouden per jaar voor iedere staat in de Verenigde Staten. Hierdoor is er\n",
    "duidelijk af te lezen dat de gemiddelden nogal uit elkaar liggen. Met name het verschil tussen\n",
    "District of Columbia en Puerto Rico is aanzienlijk. Puerto Rico is een eiland onder controle van de\n",
    "VS wat niet erg betrokken is bij de economie. Het argument dat gegeven kan worden aan \n",
    "de hand van deze visualisatie, is dat de staat waarin je werkt van invloed is op het inkomen.\n"
   ]
  },
  {
   "cell_type": "code",
   "execution_count": null,
   "metadata": {},
   "outputs": [],
   "source": [
    "tril_df = income_df[['State_Name', 'Mean']]\n",
    "mid_df = tril_df.groupby('State_Name')[['Mean']].mean().reset_index()\n",
    "mid_df = mid_df.sort_values('Mean', ascending=False)\n",
    "\n",
    "mean_income = go.Bar(\n",
    "    x = mid_df['State_Name'],\n",
    "    y = mid_df['Mean'],\n",
    "    name = 'Average househould income'\n",
    ")\n",
    "\n",
    "\n",
    "fig2 = go.Figure(data=mean_income)\n",
    "fig2.show()"
   ]
  },
  {
   "attachments": {},
   "cell_type": "markdown",
   "metadata": {},
   "source": [
    "figuur 3\n",
    "\n",
    "** Sorteren op inkomen\n"
   ]
  },
  {
   "attachments": {},
   "cell_type": "markdown",
   "metadata": {},
   "source": [
    "## Visualisatie 3\n",
    "#### Verschil in collegegeld universiteiten\n",
    "\n",
    "Deze visualisatie is een scatterplot van dataset 2. In dit scatterplot staat elk puntje voor een universiteit in een bepaalde staat in de Verenigde Staten. Op de x-as is te lezen hoeveel collegegeld studenten aan deze universiteit betalen als ze zelf uit de staat komen waar de universiteit is gevestigd. Op de y-as is te lezen hoeveel collegegeld studenten betalen als ze studeren aan een universiteit die zich niet bevindt in de staat waarin ze wonen. Deze dataset bevat uitsluitend informatie over Universiteiten waarbij buitenstaatste studenten meer moeten betalen dan binnenstaatse studenten. Dit is zo bij 224 van de 629 universiteiten. Dit is omgerekend 35.6% van de Universiteiten. \n"
   ]
  },
  {
   "cell_type": "code",
   "execution_count": null,
   "metadata": {},
   "outputs": [],
   "source": [
    "same_filt = (tuition_df['in_state_tuition'] != tuition_df['out_of_state_tuition'])\n",
    "\n",
    "different_tuition_df = tuition_df[same_filt]\n",
    "\n",
    "fig = px.scatter(different_tuition_df, x=different_tuition_df['in_state_tuition'], y=different_tuition_df['out_of_state_tuition'],\n",
    "\t            color=different_tuition_df['state_name'],\n",
    "                hover_name=different_tuition_df['name'], log_x=True, size_max=60\n",
    "                )\n",
    "\n",
    "fig.update_layout(\n",
    "    xaxis=dict(title='Tuition for in state students'),\n",
    "    yaxis=dict(title='Tuition out of state students'),\n",
    "    title='Scatter Plot of Universities only with different tuition fees for out of state studenten'\n",
    ")\n",
    "\n",
    "fig.show()"
   ]
  },
  {
   "attachments": {},
   "cell_type": "markdown",
   "metadata": {},
   "source": [
    "figuur 4\n",
    "\n",
    "** Deze misschien samenvoegen of iig minder aandacht."
   ]
  },
  {
   "attachments": {},
   "cell_type": "markdown",
   "metadata": {},
   "source": [
    "Doordat 35.6% van de universiteiten verschillende tuition fees heeft zijn zij bij elkaar verantwoordelijk voor de verschuiving in het scatterplot hieronder. Deze laat een gestippelde lijn zien bij een gelijke verdeling van tuition fee's. We hebben de gemiddelden van tuition fees for 'in state' en 'out of state' studenten gepakt per staat. Daaruit is de onderstaande plot ontstaan."
   ]
  },
  {
   "cell_type": "code",
   "execution_count": null,
   "metadata": {},
   "outputs": [],
   "source": [
    "lil_df = tuition_df[['state_y', 'in_state_tuition', 'out_of_state_tuition']]\n",
    "mean_df = lil_df.groupby('state_y')[['in_state_tuition', 'out_of_state_tuition']].mean().reset_index()\n",
    "\n",
    "fig2 = px.scatter(mean_df, x=mean_df['in_state_tuition'], y=mean_df['out_of_state_tuition'],\n",
    "\t            color=mean_df['state_y'],\n",
    "                hover_name=mean_df['state_y'],\n",
    "                )\n",
    "fig2.add_trace(go.Scatter(x=[5000, 55000],\n",
    "                        y=[5000, 55000],\n",
    "                        mode='lines',\n",
    "                        name='Equal tuition fees',\n",
    "                        line=dict(color='black', dash='dash')))\n",
    "fig2.update_layout(xaxis_title='In state tuition fee', yaxis_title='Out of state tuition fee')"
   ]
  },
  {
   "attachments": {},
   "cell_type": "markdown",
   "metadata": {},
   "source": [
    "figuur 5"
   ]
  },
  {
   "attachments": {},
   "cell_type": "markdown",
   "metadata": {},
   "source": [
    "De derde visualisatie is uit de tweede dataset, deze staafdiagram brengt de tuition fee voor in- en out of state studenten per staat in kaart. Daarnaast is het gemiddelde inkomen per huishouden per staat af te lezen. Wat opvalt is dat staten waar zowel in- als out of state studenten veel tuition fee betalen vaak ook een hoog gemiddeld inkomen hebben. Toch zijn er staten, bijvoorbeeld Indiana, waar het tuition fee voor in state studenten hoog is zonder een hoog gemiddeld inkomen. Dit betekent dat het lastig kan zijn om de kosten voor onderwijs te betalen en veel te verdienen als je bent geboren in een staat waar het gemiddeld inkomen laag is en de tuition fee hoog."
   ]
  },
  {
   "cell_type": "code",
   "execution_count": null,
   "metadata": {},
   "outputs": [],
   "source": [
    "lil_df = tuition_df[['state_y', 'in_state_tuition', 'out_of_state_tuition']]\n",
    "mean_df = lil_df.groupby('state_y')[['in_state_tuition', 'out_of_state_tuition']].mean().reset_index()\n",
    "mean_df = mean_df.rename(columns={'state_y' : 'State_Name'})\n",
    "\n",
    "tril_df = income_df[['State_Name', 'Mean']]\n",
    "mid_df = tril_df.groupby('State_Name')[['Mean']].mean().reset_index()\n",
    "filt = (mid_df['State_Name'] != 'District of Columbia') & (mid_df['State_Name'] != 'Puerto Rico')\n",
    "mid_df = mid_df[filt]\n",
    "\n",
    "merged_df = pd.merge(mean_df, mid_df, on='State_Name')\n",
    "\n",
    "merged_df['difference_percentage'] = (abs(merged_df['out_of_state_tuition'] - merged_df['in_state_tuition']) / merged_df['in_state_tuition']) * 100\n",
    "\n",
    "code = {'Alabama': 'AL','Alaska': 'AK','Arizona': 'AZ',\n",
    "        'Arkansas': 'AR','California': 'CA','Colorado': 'CO','Connecticut': 'CT','Delaware': 'DE',\n",
    "        'District of Columbia': 'DC','Florida': 'FL','Georgia': 'GA','Hawaii': 'HI','Idaho': 'ID',\n",
    "        'Illinois': 'IL','Indiana': 'IN','Iowa': 'IA','Kansas': 'KS','Kentucky': 'KY','Louisiana': 'LA',\n",
    "        'Maine': 'ME','Maryland': 'MD','Massachusetts': 'MA','Michigan': 'MI','Minnesota': 'MN',\n",
    "        'Mississippi': 'MS','Missouri': 'MO','Montana': 'MT','Nebraska': 'NE','Nevada': 'NV',\n",
    "        'New Hampshire': 'NH','New Jersey': 'NJ','New Mexico': 'NM','New York': 'NY',\n",
    "        'North Carolina': 'NC','North Dakota': 'ND','Ohio': 'OH','Oklahoma': 'OK',\n",
    "        'Oregon': 'OR','Pennsylvania': 'PA','Rhode Island': 'RI','South Carolina': 'SC',\n",
    "        'South Dakota': 'SD','Tennessee': 'TN','Texas': 'TX','Utah': 'UT','Vermont': 'VT','Virginia': 'VA',\n",
    "        'Washington': 'WA','West Virginia': 'WV','Wisconsin': 'WI', 'Wyoming': 'WY'}\n",
    "\n",
    "merged_df['State_Code'] = merged_df['State_Name'].map(code)\n",
    "\n",
    "fig = px.choropleth(\n",
    "    merged_df,\n",
    "    locations='State_Code',\n",
    "    color='Mean',\n",
    "    color_continuous_scale=[[0, 'white'], [1, 'darkgreen']],  \n",
    "    hover_name='State_Name',\n",
    "    locationmode='USA-states',\n",
    "    scope='usa',\n",
    "    labels={'Mean': 'Mean Household Income'}\n",
    ")\n",
    "\n",
    "fig.update_traces(\n",
    "    hovertemplate='<b>%{hovertext}</b><br>' +\n",
    "                  'Mean: $%{z:.2f}<br>' +\n",
    "                  'In-State Tuition: $%{customdata[0]:,.2f}<br>' +\n",
    "                  'Out-of-State Tuition: $%{customdata[1]:,.2f}<br>' + \n",
    "                  'Difference percentage : %{customdata[2]:,.2f}%',\n",
    "    customdata=merged_df[['in_state_tuition', 'out_of_state_tuition', 'difference_percentage']].values.tolist()\n",
    ")\n",
    "\n",
    "fig.update_layout(\n",
    "    title={\n",
    "        'text': 'Mean Household Income per State',\n",
    "        'xanchor': 'center',\n",
    "        'yanchor': 'top',\n",
    "        'x': 0.5\n",
    "    },\n",
    "    coloraxis_colorbar=dict(title='Mean Household Income'),\n",
    ")\n",
    "\n",
    "fig.show()"
   ]
  },
  {
   "attachments": {},
   "cell_type": "markdown",
   "metadata": {},
   "source": [
    "figuur 6"
   ]
  },
  {
   "attachments": {},
   "cell_type": "markdown",
   "metadata": {},
   "source": [
    "## Visualisatie 4\n"
   ]
  },
  {
   "attachments": {},
   "cell_type": "markdown",
   "metadata": {},
   "source": [
    "In de onderstaande scatterdiagram van de tweede dataset valt de correlatie te zien tussen Career pay en Tuition fee voor in-state tuition en out-of-state tuition. In de grafiek is af te lezen dat studenten die meer dan $50 000 tuition betalen, gemiddeld meer verdienen dan studenten die minder tuition betalen. Hieruit kan dus worden geconcludeerd dat het betalen van hoge kosten voor tuition een indicator is voor een hoog inkomen. Echter betekent dit niet dat het betalen van weinig tuition hoe dan ook resulteert in een laag inkomen. Dit is ook af te lezen in de grafiek, er zijn namelijk meerdere gevallen van lage kosten voor tuition maar hoge inkomens."
   ]
  },
  {
   "cell_type": "code",
   "execution_count": null,
   "metadata": {},
   "outputs": [],
   "source": [
    "sub_df = tuition_df[['name','in_state_tuition', 'out_of_state_tuition', 'mid_career_pay']]\n",
    "\n",
    "fig = px.scatter(\n",
    "    sub_df,\n",
    "    x = sub_df['mid_career_pay'],\n",
    "    y = [sub_df['in_state_tuition'], sub_df['out_of_state_tuition']]\n",
    "    #labels={'mid_career_pay' : 'Estimated career pay', 'in_state_tuition' : 'In state tuition', 'out_of_state_tuition' : 'Out of state tuition'}\n",
    ")\n",
    "\n",
    "fig.update_traces(\n",
    "    hovertemplate='<b>%{customdata[0]}</b><br>' +\n",
    "                  'In State tuition Fee: $%{customdata[3]}<br>' +\n",
    "                  'Out-of-State Tuition Fee: $%{customdata[2]}<br>' +\n",
    "                  'Estimated career pay: $%{customdata[1]}',\n",
    "    customdata=sub_df[['name','mid_career_pay', 'out_of_state_tuition', 'in_state_tuition']].values.tolist()\n",
    ")\n",
    "fig.show()"
   ]
  },
  {
   "attachments": {},
   "cell_type": "markdown",
   "metadata": {},
   "source": [
    "figuur 7"
   ]
  }
 ],
 "metadata": {
  "kernelspec": {
   "display_name": "base",
   "language": "python",
   "name": "python3"
  },
  "language_info": {
   "codemirror_mode": {
    "name": "ipython",
    "version": 3
   },
   "file_extension": ".py",
   "mimetype": "text/x-python",
   "name": "python",
   "nbconvert_exporter": "python",
   "pygments_lexer": "ipython3",
   "version": "3.11.0"
  },
  "orig_nbformat": 4
 },
 "nbformat": 4,
 "nbformat_minor": 2
}
